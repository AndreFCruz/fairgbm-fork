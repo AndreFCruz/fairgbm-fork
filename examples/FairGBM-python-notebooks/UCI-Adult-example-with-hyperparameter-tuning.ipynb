{
 "cells": [
  {
   "cell_type": "markdown",
   "id": "cff42768",
   "metadata": {},
   "source": [
    "# FairGBM example with hyperparameter tuning (using UCI Adult dataset)\n",
    "\n",
    "**IMPORTANT**: as FairGBM is a research project, the default hyperparameters will not be as reliable as the default `lightgbm` or `sklearn` hyperparameters.\n",
    "\n",
    "Therefore we earnestly **recommend performing hyperparameter-tuning** on the `fairgbm` hyperparameters, most importantly on the `multiplier_learning_rate` parameter!"
   ]
  },
  {
   "cell_type": "markdown",
   "id": "8822e0d4",
   "metadata": {},
   "source": [
    "This notebook has extra requirements besides `fairgbm`. Simply run ```pip install -r requirements.txt``` to get them!"
   ]
  },
  {
   "cell_type": "code",
   "execution_count": 1,
   "id": "4bdcc068",
   "metadata": {},
   "outputs": [],
   "source": [
    "from pathlib import Path\n",
    "import pandas as pd\n",
    "import numpy as np"
   ]
  },
  {
   "cell_type": "code",
   "execution_count": 2,
   "id": "cbe2ed76",
   "metadata": {},
   "outputs": [],
   "source": [
    "SEED = 42"
   ]
  },
  {
   "cell_type": "markdown",
   "id": "10ff123f",
   "metadata": {},
   "source": [
    "### Load data"
   ]
  },
  {
   "cell_type": "code",
   "execution_count": 3,
   "id": "27034067",
   "metadata": {},
   "outputs": [
    {
     "name": "stdout",
     "output_type": "stream",
     "text": [
      "-1 / unknown"
     ]
    },
    {
     "data": {
      "text/html": [
       "<div>\n",
       "<style scoped>\n",
       "    .dataframe tbody tr th:only-of-type {\n",
       "        vertical-align: middle;\n",
       "    }\n",
       "\n",
       "    .dataframe tbody tr th {\n",
       "        vertical-align: top;\n",
       "    }\n",
       "\n",
       "    .dataframe thead th {\n",
       "        text-align: right;\n",
       "    }\n",
       "</style>\n",
       "<table border=\"1\" class=\"dataframe\">\n",
       "  <thead>\n",
       "    <tr style=\"text-align: right;\">\n",
       "      <th></th>\n",
       "      <th>age</th>\n",
       "      <th>workclass</th>\n",
       "      <th>fnlwgt</th>\n",
       "      <th>education</th>\n",
       "      <th>education-num</th>\n",
       "      <th>marital-status</th>\n",
       "      <th>occupation</th>\n",
       "      <th>relationship</th>\n",
       "      <th>race</th>\n",
       "      <th>sex</th>\n",
       "      <th>capital-gain</th>\n",
       "      <th>capital-loss</th>\n",
       "      <th>hours-per-week</th>\n",
       "      <th>native-country</th>\n",
       "      <th>target</th>\n",
       "    </tr>\n",
       "  </thead>\n",
       "  <tbody>\n",
       "    <tr>\n",
       "      <th>0</th>\n",
       "      <td>39.0</td>\n",
       "      <td>State-gov</td>\n",
       "      <td>77516.0</td>\n",
       "      <td>Bachelors</td>\n",
       "      <td>13.0</td>\n",
       "      <td>Never-married</td>\n",
       "      <td>Adm-clerical</td>\n",
       "      <td>Not-in-family</td>\n",
       "      <td>White</td>\n",
       "      <td>Male</td>\n",
       "      <td>2174.0</td>\n",
       "      <td>0.0</td>\n",
       "      <td>40.0</td>\n",
       "      <td>United-States</td>\n",
       "      <td>&lt;=50K</td>\n",
       "    </tr>\n",
       "    <tr>\n",
       "      <th>1</th>\n",
       "      <td>50.0</td>\n",
       "      <td>Self-emp-not-inc</td>\n",
       "      <td>83311.0</td>\n",
       "      <td>Bachelors</td>\n",
       "      <td>13.0</td>\n",
       "      <td>Married-civ-spouse</td>\n",
       "      <td>Exec-managerial</td>\n",
       "      <td>Husband</td>\n",
       "      <td>White</td>\n",
       "      <td>Male</td>\n",
       "      <td>0.0</td>\n",
       "      <td>0.0</td>\n",
       "      <td>13.0</td>\n",
       "      <td>United-States</td>\n",
       "      <td>&lt;=50K</td>\n",
       "    </tr>\n",
       "    <tr>\n",
       "      <th>2</th>\n",
       "      <td>38.0</td>\n",
       "      <td>Private</td>\n",
       "      <td>215646.0</td>\n",
       "      <td>HS-grad</td>\n",
       "      <td>9.0</td>\n",
       "      <td>Divorced</td>\n",
       "      <td>Handlers-cleaners</td>\n",
       "      <td>Not-in-family</td>\n",
       "      <td>White</td>\n",
       "      <td>Male</td>\n",
       "      <td>0.0</td>\n",
       "      <td>0.0</td>\n",
       "      <td>40.0</td>\n",
       "      <td>United-States</td>\n",
       "      <td>&lt;=50K</td>\n",
       "    </tr>\n",
       "    <tr>\n",
       "      <th>3</th>\n",
       "      <td>53.0</td>\n",
       "      <td>Private</td>\n",
       "      <td>234721.0</td>\n",
       "      <td>11th</td>\n",
       "      <td>7.0</td>\n",
       "      <td>Married-civ-spouse</td>\n",
       "      <td>Handlers-cleaners</td>\n",
       "      <td>Husband</td>\n",
       "      <td>Black</td>\n",
       "      <td>Male</td>\n",
       "      <td>0.0</td>\n",
       "      <td>0.0</td>\n",
       "      <td>40.0</td>\n",
       "      <td>United-States</td>\n",
       "      <td>&lt;=50K</td>\n",
       "    </tr>\n",
       "    <tr>\n",
       "      <th>4</th>\n",
       "      <td>28.0</td>\n",
       "      <td>Private</td>\n",
       "      <td>338409.0</td>\n",
       "      <td>Bachelors</td>\n",
       "      <td>13.0</td>\n",
       "      <td>Married-civ-spouse</td>\n",
       "      <td>Prof-specialty</td>\n",
       "      <td>Wife</td>\n",
       "      <td>Black</td>\n",
       "      <td>Female</td>\n",
       "      <td>0.0</td>\n",
       "      <td>0.0</td>\n",
       "      <td>40.0</td>\n",
       "      <td>Cuba</td>\n",
       "      <td>&lt;=50K</td>\n",
       "    </tr>\n",
       "  </tbody>\n",
       "</table>\n",
       "</div>"
      ],
      "text/plain": [
       "    age         workclass    fnlwgt  education  education-num  \\\n",
       "0  39.0         State-gov   77516.0  Bachelors           13.0   \n",
       "1  50.0  Self-emp-not-inc   83311.0  Bachelors           13.0   \n",
       "2  38.0           Private  215646.0    HS-grad            9.0   \n",
       "3  53.0           Private  234721.0       11th            7.0   \n",
       "4  28.0           Private  338409.0  Bachelors           13.0   \n",
       "\n",
       "       marital-status         occupation   relationship   race     sex  \\\n",
       "0       Never-married       Adm-clerical  Not-in-family  White    Male   \n",
       "1  Married-civ-spouse    Exec-managerial        Husband  White    Male   \n",
       "2            Divorced  Handlers-cleaners  Not-in-family  White    Male   \n",
       "3  Married-civ-spouse  Handlers-cleaners        Husband  Black    Male   \n",
       "4  Married-civ-spouse     Prof-specialty           Wife  Black  Female   \n",
       "\n",
       "   capital-gain  capital-loss  hours-per-week native-country target  \n",
       "0        2174.0           0.0            40.0  United-States  <=50K  \n",
       "1           0.0           0.0            13.0  United-States  <=50K  \n",
       "2           0.0           0.0            40.0  United-States  <=50K  \n",
       "3           0.0           0.0            40.0  United-States  <=50K  \n",
       "4           0.0           0.0            40.0           Cuba  <=50K  "
      ]
     },
     "execution_count": 3,
     "metadata": {},
     "output_type": "execute_result"
    }
   ],
   "source": [
    "from utils import load_uci_adult\n",
    "train_set, other_set = load_uci_adult()\n",
    "train_set.head()"
   ]
  },
  {
   "cell_type": "markdown",
   "id": "60ee6071",
   "metadata": {},
   "source": [
    "Split features (X), labels (Y), and sensitive attributes (S).\n",
    "\n",
    "**NOTE**: the labels (Y) and sensitive attributes (S) must be in numeric format!"
   ]
  },
  {
   "cell_type": "code",
   "execution_count": 4,
   "id": "03425560",
   "metadata": {},
   "outputs": [],
   "source": [
    "UCI_ADULT_TARGET_COL = \"target\"\n",
    "UCI_ADULT_SENSITIVE_COL = \"sex\"\n",
    "\n",
    "def split_X_Y_S_uci_adult(data) -> tuple:\n",
    "    \"\"\"Splits the given UCI Adult data into features, target, and sensitive attributes.\n",
    "    \n",
    "    Returns\n",
    "    -------\n",
    "    X, Y, S : tuple[pd.DataFrame, pd.Series, pd.Series]\n",
    "        A tuple conmtaining the dataset's features, labels, and sensitive attributes.\n",
    "    \"\"\"\n",
    "    ignored_cols = [UCI_ADULT_TARGET_COL, UCI_ADULT_SENSITIVE_COL, \"fnlwgt\"]\n",
    "    feature_cols = [col for col in data.columns if col not in ignored_cols]\n",
    "\n",
    "    X = data[feature_cols]\n",
    "    \n",
    "    # Convert label to numeric\n",
    "    Y = np.array(\n",
    "        [0 if \"<=50K\" in val.strip() else 1 for val in data[UCI_ADULT_TARGET_COL]],\n",
    "        dtype=int)\n",
    "\n",
    "    # Convert sensitive attributes to numeric\n",
    "    # NOTE! You can use two or more sensitive groups!\n",
    "    S = np.array(\n",
    "        [1 if val == \"Female\" else 0 for val in data[UCI_ADULT_SENSITIVE_COL]],\n",
    "        dtype=int)\n",
    "    \n",
    "    return X, Y, S"
   ]
  },
  {
   "cell_type": "markdown",
   "id": "9b99f0de",
   "metadata": {},
   "source": [
    "In this example we're using only two sensitive attributes (sex=\"Female\" or sex=\"Male\").\n",
    "\n",
    "However, _FairGBM is **not** restricted to binary sensitive attributes_: you can use two or more as long as they're encoded in a single numeric column."
   ]
  },
  {
   "cell_type": "markdown",
   "id": "5d9c295d",
   "metadata": {},
   "source": [
    "---\n",
    "Split test data into validation and test (we need a validation set for hyperparameter tuning)."
   ]
  },
  {
   "cell_type": "code",
   "execution_count": 5,
   "id": "c352ac97",
   "metadata": {},
   "outputs": [],
   "source": [
    "VALIDATION_SIZE_N = int(0.5 * len(other_set))\n",
    "\n",
    "indices = np.random.permutation(len(other_set))\n",
    "val_indices = indices[VALIDATION_SIZE_N: ]\n",
    "test_indices = indices[: VALIDATION_SIZE_N]\n",
    "\n",
    "val_set = other_set.iloc[val_indices]\n",
    "test_set = other_set.iloc[test_indices]"
   ]
  },
  {
   "cell_type": "code",
   "execution_count": 6,
   "id": "7db7d742",
   "metadata": {},
   "outputs": [],
   "source": [
    "X_train, Y_train, S_train = split_X_Y_S_uci_adult(train_set)\n",
    "X_val, Y_val, S_val = split_X_Y_S_uci_adult(val_set)\n",
    "X_test, Y_test, S_test = split_X_Y_S_uci_adult(test_set);"
   ]
  },
  {
   "cell_type": "markdown",
   "id": "0cad6eeb",
   "metadata": {},
   "source": [
    "###  Define FairGBM hyperparameter search space and tuner\n",
    "\n",
    "We're using the [`hyperparameter-tuning`](https://pypi.org/project/hyperparameter-tuning/) package (essentially contains a series of useful wrappers around `optuna`)."
   ]
  },
  {
   "cell_type": "code",
   "execution_count": 7,
   "id": "b02185ad",
   "metadata": {},
   "outputs": [],
   "source": [
    "# This file contains an example hyperparameter search space for FairGBM\n",
    "HYPERPARAM_SPACE_PATH = \"fairgbm_equalized-odds.yaml\""
   ]
  },
  {
   "cell_type": "markdown",
   "id": "a59dcd13",
   "metadata": {},
   "source": [
    "This tuner configuration will maximize the average of `accuracy` and `equal_odds_ratio`."
   ]
  },
  {
   "cell_type": "code",
   "execution_count": 8,
   "id": "0fd15f66",
   "metadata": {},
   "outputs": [
    {
     "name": "stderr",
     "output_type": "stream",
     "text": [
      "\u001b[32m[I 2023-07-14 20:47:01,877]\u001b[0m A new study created in memory with name: no-name-a37f39e4-165d-473a-93f1-a1444c9c96d1\u001b[0m\n"
     ]
    }
   ],
   "source": [
    "from hpt.tuner import ObjectiveFunction, OptunaTuner\n",
    "\n",
    "obj_func = ObjectiveFunction(\n",
    "    X_train=X_train, y_train=Y_train, s_train=S_train,\n",
    "    X_val=X_val, y_val=Y_val, s_val=S_val,\n",
    "    hyperparameter_space=HYPERPARAM_SPACE_PATH,\n",
    "    eval_metric=\"accuracy\",\n",
    "    other_eval_metric=\"equal_odds_ratio\",\n",
    "    threshold=0.50,\n",
    "    alpha=0.50,   # how much weight to give to `other_eval_metric`\n",
    ")\n",
    "\n",
    "tuner = OptunaTuner(\n",
    "    objective_function=obj_func,\n",
    "    direction=\"maximize\",\n",
    "    seed=SEED,\n",
    ")"
   ]
  },
  {
   "cell_type": "markdown",
   "id": "44bb27d7",
   "metadata": {},
   "source": [
    "### Run HPT tuner"
   ]
  },
  {
   "cell_type": "code",
   "execution_count": 9,
   "id": "0c4eaf2e",
   "metadata": {
    "collapsed": true
   },
   "outputs": [
    {
     "name": "stderr",
     "output_type": "stream",
     "text": [
      "\u001b[32m[I 2023-07-14 20:47:02,491]\u001b[0m Trial 1 finished with value: 0.6258986454217821 and parameters: {'learner_type': 'FairGBM', 'learner_FairGBM_boosting_type': 'goss', 'learner_FairGBM_enable_bundle': False, 'learner_FairGBM_n_estimators': 95, 'learner_FairGBM_num_leaves': 5, 'learner_FairGBM_min_child_samples': 290, 'learner_FairGBM_max_depth': 10, 'learner_FairGBM_learning_rate': 0.03837587742291467, 'learner_FairGBM_reg_alpha': 0.0007064131278407865, 'learner_FairGBM_reg_lambda': 0.0014357255484088096, 'learner_FairGBM_constraint_type': 'FNR,FPR', 'learner_FairGBM_multiplier_learning_rate': 0.005234596781724395}. Best is trial 1 with value: 0.6258986454217821.\u001b[0m\n",
      "\u001b[32m[I 2023-07-14 20:47:02,951]\u001b[0m Trial 8 finished with value: 0.6493120421033222 and parameters: {'learner_type': 'FairGBM', 'learner_FairGBM_boosting_type': 'gbdt', 'learner_FairGBM_enable_bundle': False, 'learner_FairGBM_n_estimators': 95, 'learner_FairGBM_num_leaves': 27, 'learner_FairGBM_min_child_samples': 100, 'learner_FairGBM_max_depth': 3, 'learner_FairGBM_learning_rate': 0.03190496143251797, 'learner_FairGBM_reg_alpha': 0.00257320713883477, 'learner_FairGBM_reg_lambda': 0.0006984000001428965, 'learner_FairGBM_constraint_type': 'FNR,FPR', 'learner_FairGBM_multiplier_learning_rate': 0.09764673006322874}. Best is trial 8 with value: 0.6493120421033222.\u001b[0m\n",
      "\u001b[32m[I 2023-07-14 20:47:03,810]\u001b[0m Trial 5 finished with value: 0.6270824089750135 and parameters: {'learner_type': 'FairGBM', 'learner_FairGBM_boosting_type': 'goss', 'learner_FairGBM_enable_bundle': False, 'learner_FairGBM_n_estimators': 262, 'learner_FairGBM_num_leaves': 14, 'learner_FairGBM_min_child_samples': 125, 'learner_FairGBM_max_depth': 10, 'learner_FairGBM_learning_rate': 0.04383408262404766, 'learner_FairGBM_reg_alpha': 0.002409823576737907, 'learner_FairGBM_reg_lambda': 0.003906783123981784, 'learner_FairGBM_constraint_type': 'FNR,FPR', 'learner_FairGBM_multiplier_learning_rate': 0.029870139363206063}. Best is trial 8 with value: 0.6493120421033222.\u001b[0m\n",
      "\u001b[32m[I 2023-07-14 20:47:03,925]\u001b[0m Trial 9 finished with value: 0.6449923506659423 and parameters: {'learner_type': 'FairGBM', 'learner_FairGBM_boosting_type': 'goss', 'learner_FairGBM_enable_bundle': False, 'learner_FairGBM_n_estimators': 158, 'learner_FairGBM_num_leaves': 27, 'learner_FairGBM_min_child_samples': 138, 'learner_FairGBM_max_depth': 4, 'learner_FairGBM_learning_rate': 0.014879807010891326, 'learner_FairGBM_reg_alpha': 0.024404057896047212, 'learner_FairGBM_reg_lambda': 0.006432135344942792, 'learner_FairGBM_constraint_type': 'FNR,FPR', 'learner_FairGBM_multiplier_learning_rate': 0.006846340263050652}. Best is trial 8 with value: 0.6493120421033222.\u001b[0m\n",
      "\u001b[32m[I 2023-07-14 20:47:04,315]\u001b[0m Trial 2 finished with value: 0.7768693083631134 and parameters: {'learner_type': 'FairGBM', 'learner_FairGBM_boosting_type': 'goss', 'learner_FairGBM_enable_bundle': False, 'learner_FairGBM_n_estimators': 313, 'learner_FairGBM_num_leaves': 29, 'learner_FairGBM_min_child_samples': 18, 'learner_FairGBM_max_depth': 8, 'learner_FairGBM_learning_rate': 0.02363415546220893, 'learner_FairGBM_reg_alpha': 0.005091596701487525, 'learner_FairGBM_reg_lambda': 0.001012774825437826, 'learner_FairGBM_constraint_type': 'FNR,FPR', 'learner_FairGBM_multiplier_learning_rate': 0.06741317953914074}. Best is trial 2 with value: 0.7768693083631134.\u001b[0m\n",
      "\u001b[32m[I 2023-07-14 20:47:04,772]\u001b[0m Trial 11 finished with value: 0.4562584548669475 and parameters: {'learner_type': 'FairGBM', 'learner_FairGBM_boosting_type': 'gbdt', 'learner_FairGBM_enable_bundle': False, 'learner_FairGBM_n_estimators': 198, 'learner_FairGBM_num_leaves': 26, 'learner_FairGBM_min_child_samples': 46, 'learner_FairGBM_max_depth': 3, 'learner_FairGBM_learning_rate': 0.2569586060654563, 'learner_FairGBM_reg_alpha': 0.045209144523488023, 'learner_FairGBM_reg_lambda': 0.0005670057749866051, 'learner_FairGBM_constraint_type': 'FNR,FPR', 'learner_FairGBM_multiplier_learning_rate': 0.19474431539276857}. Best is trial 2 with value: 0.7768693083631134.\u001b[0m\n",
      "\u001b[32m[I 2023-07-14 20:47:04,838]\u001b[0m Trial 10 finished with value: 0.6240548615203725 and parameters: {'learner_type': 'FairGBM', 'learner_FairGBM_boosting_type': 'goss', 'learner_FairGBM_enable_bundle': False, 'learner_FairGBM_n_estimators': 150, 'learner_FairGBM_num_leaves': 12, 'learner_FairGBM_min_child_samples': 287, 'learner_FairGBM_max_depth': 7, 'learner_FairGBM_learning_rate': 0.27179211538012643, 'learner_FairGBM_reg_alpha': 0.002668234242329096, 'learner_FairGBM_reg_lambda': 0.07163857715800512, 'learner_FairGBM_constraint_type': 'FNR,FPR', 'learner_FairGBM_multiplier_learning_rate': 0.02205212258420616}. Best is trial 2 with value: 0.7768693083631134.\u001b[0m\n",
      "\u001b[32m[I 2023-07-14 20:47:06,096]\u001b[0m Trial 13 finished with value: 0.6823097106775317 and parameters: {'learner_type': 'FairGBM', 'learner_FairGBM_boosting_type': 'gbdt', 'learner_FairGBM_enable_bundle': False, 'learner_FairGBM_n_estimators': 257, 'learner_FairGBM_num_leaves': 21, 'learner_FairGBM_min_child_samples': 19, 'learner_FairGBM_max_depth': 4, 'learner_FairGBM_learning_rate': 0.032572978847359844, 'learner_FairGBM_reg_alpha': 0.040773673269071734, 'learner_FairGBM_reg_lambda': 0.0673618866082854, 'learner_FairGBM_constraint_type': 'FNR,FPR', 'learner_FairGBM_multiplier_learning_rate': 0.034067459996210726}. Best is trial 2 with value: 0.7768693083631134.\u001b[0m\n",
      "\u001b[32m[I 2023-07-14 20:47:06,245]\u001b[0m Trial 3 finished with value: 0.6976843248081023 and parameters: {'learner_type': 'FairGBM', 'learner_FairGBM_boosting_type': 'goss', 'learner_FairGBM_enable_bundle': False, 'learner_FairGBM_n_estimators': 619, 'learner_FairGBM_num_leaves': 31, 'learner_FairGBM_min_child_samples': 36, 'learner_FairGBM_max_depth': 5, 'learner_FairGBM_learning_rate': 0.011937722295979012, 'learner_FairGBM_reg_alpha': 0.0002801452272979475, 'learner_FairGBM_reg_lambda': 0.00011745082713189947, 'learner_FairGBM_constraint_type': 'FNR,FPR', 'learner_FairGBM_multiplier_learning_rate': 0.013444354923751126}. Best is trial 2 with value: 0.7768693083631134.\u001b[0m\n",
      "\u001b[32m[I 2023-07-14 20:47:07,688]\u001b[0m Trial 16 finished with value: 0.6573607485554371 and parameters: {'learner_type': 'FairGBM', 'learner_FairGBM_boosting_type': 'goss', 'learner_FairGBM_enable_bundle': False, 'learner_FairGBM_n_estimators': 216, 'learner_FairGBM_num_leaves': 32, 'learner_FairGBM_min_child_samples': 372, 'learner_FairGBM_max_depth': 5, 'learner_FairGBM_learning_rate': 0.16636326064264267, 'learner_FairGBM_reg_alpha': 0.0035399797872704775, 'learner_FairGBM_reg_lambda': 0.0719623396106348, 'learner_FairGBM_constraint_type': 'FNR,FPR', 'learner_FairGBM_multiplier_learning_rate': 0.021712683746594533}. Best is trial 2 with value: 0.7768693083631134.\u001b[0m\n",
      "\u001b[32m[I 2023-07-14 20:47:08,932]\u001b[0m Trial 15 finished with value: 0.7144496294303522 and parameters: {'learner_type': 'FairGBM', 'learner_FairGBM_boosting_type': 'gbdt', 'learner_FairGBM_enable_bundle': False, 'learner_FairGBM_n_estimators': 665, 'learner_FairGBM_num_leaves': 6, 'learner_FairGBM_min_child_samples': 7, 'learner_FairGBM_max_depth': 2, 'learner_FairGBM_learning_rate': 0.051267936206254576, 'learner_FairGBM_reg_alpha': 0.0025842409233761466, 'learner_FairGBM_reg_lambda': 0.013569558843814717, 'learner_FairGBM_constraint_type': 'FNR,FPR', 'learner_FairGBM_multiplier_learning_rate': 0.019296640531986452}. Best is trial 2 with value: 0.7768693083631134.\u001b[0m\n",
      "\u001b[32m[I 2023-07-14 20:47:09,198]\u001b[0m Trial 17 finished with value: 0.6643467483079397 and parameters: {'learner_type': 'FairGBM', 'learner_FairGBM_boosting_type': 'goss', 'learner_FairGBM_enable_bundle': False, 'learner_FairGBM_n_estimators': 290, 'learner_FairGBM_num_leaves': 4, 'learner_FairGBM_min_child_samples': 16, 'learner_FairGBM_max_depth': 9, 'learner_FairGBM_learning_rate': 0.2745290935804167, 'learner_FairGBM_reg_alpha': 0.04500945682587494, 'learner_FairGBM_reg_lambda': 0.013830370405954709, 'learner_FairGBM_constraint_type': 'FNR,FPR', 'learner_FairGBM_multiplier_learning_rate': 0.007457700735561761}. Best is trial 2 with value: 0.7768693083631134.\u001b[0m\n",
      "\u001b[32m[I 2023-07-14 20:47:10,102]\u001b[0m Trial 19 finished with value: 0.6810413185610812 and parameters: {'learner_type': 'FairGBM', 'learner_FairGBM_boosting_type': 'gbdt', 'learner_FairGBM_enable_bundle': False, 'learner_FairGBM_n_estimators': 193, 'learner_FairGBM_num_leaves': 12, 'learner_FairGBM_min_child_samples': 252, 'learner_FairGBM_max_depth': 3, 'learner_FairGBM_learning_rate': 0.03875415660769133, 'learner_FairGBM_reg_alpha': 0.07805456959950274, 'learner_FairGBM_reg_lambda': 0.00026968301339643023, 'learner_FairGBM_constraint_type': 'FNR,FPR', 'learner_FairGBM_multiplier_learning_rate': 0.04755948292513022}. Best is trial 2 with value: 0.7768693083631134.\u001b[0m\n"
     ]
    },
    {
     "name": "stderr",
     "output_type": "stream",
     "text": [
      "\u001b[32m[I 2023-07-14 20:47:10,537]\u001b[0m Trial 18 finished with value: 0.8131770250674151 and parameters: {'learner_type': 'FairGBM', 'learner_FairGBM_boosting_type': 'gbdt', 'learner_FairGBM_enable_bundle': False, 'learner_FairGBM_n_estimators': 362, 'learner_FairGBM_num_leaves': 4, 'learner_FairGBM_min_child_samples': 7, 'learner_FairGBM_max_depth': 4, 'learner_FairGBM_learning_rate': 0.17752034307066794, 'learner_FairGBM_reg_alpha': 0.005256226248975853, 'learner_FairGBM_reg_lambda': 0.09529907853404387, 'learner_FairGBM_constraint_type': 'FNR,FPR', 'learner_FairGBM_multiplier_learning_rate': 0.04229192000942086}. Best is trial 18 with value: 0.8131770250674151.\u001b[0m\n",
      "\u001b[32m[I 2023-07-14 20:47:10,681]\u001b[0m Trial 20 finished with value: 0.6765218487787446 and parameters: {'learner_type': 'FairGBM', 'learner_FairGBM_boosting_type': 'goss', 'learner_FairGBM_enable_bundle': False, 'learner_FairGBM_n_estimators': 103, 'learner_FairGBM_num_leaves': 6, 'learner_FairGBM_min_child_samples': 9, 'learner_FairGBM_max_depth': 6, 'learner_FairGBM_learning_rate': 0.01112321658436884, 'learner_FairGBM_reg_alpha': 0.0003540599697175409, 'learner_FairGBM_reg_lambda': 0.0020415918989604553, 'learner_FairGBM_constraint_type': 'FNR,FPR', 'learner_FairGBM_multiplier_learning_rate': 0.07283261117216452}. Best is trial 18 with value: 0.8131770250674151.\u001b[0m\n",
      "\u001b[32m[I 2023-07-14 20:47:11,377]\u001b[0m Trial 21 finished with value: 0.659634973808086 and parameters: {'learner_type': 'FairGBM', 'learner_FairGBM_boosting_type': 'goss', 'learner_FairGBM_enable_bundle': False, 'learner_FairGBM_n_estimators': 132, 'learner_FairGBM_num_leaves': 9, 'learner_FairGBM_min_child_samples': 82, 'learner_FairGBM_max_depth': 10, 'learner_FairGBM_learning_rate': 0.17799237388239367, 'learner_FairGBM_reg_alpha': 0.03118189476275932, 'learner_FairGBM_reg_lambda': 0.0001025630431413061, 'learner_FairGBM_constraint_type': 'FNR,FPR', 'learner_FairGBM_multiplier_learning_rate': 0.005615586535788927}. Best is trial 18 with value: 0.8131770250674151.\u001b[0m\n",
      "\u001b[32m[I 2023-07-14 20:47:11,767]\u001b[0m Trial 23 finished with value: 0.7204453112082397 and parameters: {'learner_type': 'FairGBM', 'learner_FairGBM_boosting_type': 'goss', 'learner_FairGBM_enable_bundle': False, 'learner_FairGBM_n_estimators': 51, 'learner_FairGBM_num_leaves': 22, 'learner_FairGBM_min_child_samples': 73, 'learner_FairGBM_max_depth': 5, 'learner_FairGBM_learning_rate': 0.4664955943182322, 'learner_FairGBM_reg_alpha': 0.0064852155591451945, 'learner_FairGBM_reg_lambda': 0.03209070748066021, 'learner_FairGBM_constraint_type': 'FNR,FPR', 'learner_FairGBM_multiplier_learning_rate': 0.08624600041633486}. Best is trial 18 with value: 0.8131770250674151.\u001b[0m\n",
      "\u001b[32m[I 2023-07-14 20:47:11,853]\u001b[0m Trial 12 finished with value: 0.845103625700087 and parameters: {'learner_type': 'FairGBM', 'learner_FairGBM_boosting_type': 'goss', 'learner_FairGBM_enable_bundle': False, 'learner_FairGBM_n_estimators': 1104, 'learner_FairGBM_num_leaves': 31, 'learner_FairGBM_min_child_samples': 26, 'learner_FairGBM_max_depth': 5, 'learner_FairGBM_learning_rate': 0.025387497608384324, 'learner_FairGBM_reg_alpha': 0.08029265264919465, 'learner_FairGBM_reg_lambda': 0.00067770589276124, 'learner_FairGBM_constraint_type': 'FNR,FPR', 'learner_FairGBM_multiplier_learning_rate': 0.06196079823950516}. Best is trial 12 with value: 0.845103625700087.\u001b[0m\n",
      "\u001b[32m[I 2023-07-14 20:47:12,328]\u001b[0m Trial 14 finished with value: 0.6857647871894725 and parameters: {'learner_type': 'FairGBM', 'learner_FairGBM_boosting_type': 'gbdt', 'learner_FairGBM_enable_bundle': False, 'learner_FairGBM_n_estimators': 1337, 'learner_FairGBM_num_leaves': 26, 'learner_FairGBM_min_child_samples': 14, 'learner_FairGBM_max_depth': 5, 'learner_FairGBM_learning_rate': 0.018008219012102037, 'learner_FairGBM_reg_alpha': 0.003511940786608345, 'learner_FairGBM_reg_lambda': 0.0009305667788551688, 'learner_FairGBM_constraint_type': 'FNR,FPR', 'learner_FairGBM_multiplier_learning_rate': 0.0070799638987830565}. Best is trial 12 with value: 0.845103625700087.\u001b[0m\n",
      "\u001b[32m[I 2023-07-14 20:47:14,130]\u001b[0m Trial 24 finished with value: 0.6535802964700772 and parameters: {'learner_type': 'FairGBM', 'learner_FairGBM_boosting_type': 'gbdt', 'learner_FairGBM_enable_bundle': False, 'learner_FairGBM_n_estimators': 471, 'learner_FairGBM_num_leaves': 19, 'learner_FairGBM_min_child_samples': 5, 'learner_FairGBM_max_depth': 4, 'learner_FairGBM_learning_rate': 0.027676650360097633, 'learner_FairGBM_reg_alpha': 0.03447633596766683, 'learner_FairGBM_reg_lambda': 0.07849282198552247, 'learner_FairGBM_constraint_type': 'FNR,FPR', 'learner_FairGBM_multiplier_learning_rate': 0.006771376035299917}. Best is trial 12 with value: 0.845103625700087.\u001b[0m\n",
      "\u001b[32m[I 2023-07-14 20:47:14,143]\u001b[0m Trial 0 finished with value: 0.39200071137896825 and parameters: {'learner_type': 'FairGBM', 'learner_FairGBM_boosting_type': 'gbdt', 'learner_FairGBM_enable_bundle': False, 'learner_FairGBM_n_estimators': 2692, 'learner_FairGBM_num_leaves': 5, 'learner_FairGBM_min_child_samples': 54, 'learner_FairGBM_max_depth': 9, 'learner_FairGBM_learning_rate': 0.017315299513157623, 'learner_FairGBM_reg_alpha': 0.021542280921474387, 'learner_FairGBM_reg_lambda': 0.0037955055721373026, 'learner_FairGBM_constraint_type': 'FNR,FPR', 'learner_FairGBM_multiplier_learning_rate': 0.07082431285480356}. Best is trial 12 with value: 0.845103625700087.\u001b[0m\n",
      "\u001b[32m[I 2023-07-14 20:47:14,426]\u001b[0m Trial 25 finished with value: 0.7046266605874802 and parameters: {'learner_type': 'FairGBM', 'learner_FairGBM_boosting_type': 'goss', 'learner_FairGBM_enable_bundle': False, 'learner_FairGBM_n_estimators': 454, 'learner_FairGBM_num_leaves': 13, 'learner_FairGBM_min_child_samples': 49, 'learner_FairGBM_max_depth': 3, 'learner_FairGBM_learning_rate': 0.3151243532759758, 'learner_FairGBM_reg_alpha': 0.00045014157513716477, 'learner_FairGBM_reg_lambda': 0.003136751460849822, 'learner_FairGBM_constraint_type': 'FNR,FPR', 'learner_FairGBM_multiplier_learning_rate': 0.005557864951695749}. Best is trial 12 with value: 0.845103625700087.\u001b[0m\n",
      "\u001b[32m[I 2023-07-14 20:47:14,823]\u001b[0m Trial 7 finished with value: 0.4328524207516814 and parameters: {'learner_type': 'FairGBM', 'learner_FairGBM_boosting_type': 'gbdt', 'learner_FairGBM_enable_bundle': False, 'learner_FairGBM_n_estimators': 3556, 'learner_FairGBM_num_leaves': 10, 'learner_FairGBM_min_child_samples': 5, 'learner_FairGBM_max_depth': 4, 'learner_FairGBM_learning_rate': 0.30161926477960743, 'learner_FairGBM_reg_alpha': 0.00017344126245539206, 'learner_FairGBM_reg_lambda': 0.0786461894462909, 'learner_FairGBM_constraint_type': 'FNR,FPR', 'learner_FairGBM_multiplier_learning_rate': 0.008809285152654884}. Best is trial 12 with value: 0.845103625700087.\u001b[0m\n",
      "\u001b[32m[I 2023-07-14 20:47:14,835]\u001b[0m Trial 28 finished with value: 0.6361550057912074 and parameters: {'learner_type': 'FairGBM', 'learner_FairGBM_boosting_type': 'gbdt', 'learner_FairGBM_enable_bundle': False, 'learner_FairGBM_n_estimators': 110, 'learner_FairGBM_num_leaves': 29, 'learner_FairGBM_min_child_samples': 82, 'learner_FairGBM_max_depth': 7, 'learner_FairGBM_learning_rate': 0.04114166573702503, 'learner_FairGBM_reg_alpha': 0.027992761643194915, 'learner_FairGBM_reg_lambda': 0.03697382732664692, 'learner_FairGBM_constraint_type': 'FNR,FPR', 'learner_FairGBM_multiplier_learning_rate': 0.008026441117838401}. Best is trial 12 with value: 0.845103625700087.\u001b[0m\n",
      "\u001b[32m[I 2023-07-14 20:47:14,859]\u001b[0m Trial 29 finished with value: 0.6471755798669017 and parameters: {'learner_type': 'FairGBM', 'learner_FairGBM_boosting_type': 'gbdt', 'learner_FairGBM_enable_bundle': False, 'learner_FairGBM_n_estimators': 83, 'learner_FairGBM_num_leaves': 11, 'learner_FairGBM_min_child_samples': 13, 'learner_FairGBM_max_depth': 4, 'learner_FairGBM_learning_rate': 0.2251447440261073, 'learner_FairGBM_reg_alpha': 0.0009379635595017163, 'learner_FairGBM_reg_lambda': 0.00029170031325407284, 'learner_FairGBM_constraint_type': 'FNR,FPR', 'learner_FairGBM_multiplier_learning_rate': 0.013534702156642311}. Best is trial 12 with value: 0.845103625700087.\u001b[0m\n",
      "\u001b[32m[I 2023-07-14 20:47:15,080]\u001b[0m Trial 27 finished with value: 0.661991206294834 and parameters: {'learner_type': 'FairGBM', 'learner_FairGBM_boosting_type': 'gbdt', 'learner_FairGBM_enable_bundle': False, 'learner_FairGBM_n_estimators': 220, 'learner_FairGBM_num_leaves': 4, 'learner_FairGBM_min_child_samples': 40, 'learner_FairGBM_max_depth': 2, 'learner_FairGBM_learning_rate': 0.09199834926991843, 'learner_FairGBM_reg_alpha': 0.000373620189837684, 'learner_FairGBM_reg_lambda': 0.009029971436386295, 'learner_FairGBM_constraint_type': 'FNR,FPR', 'learner_FairGBM_multiplier_learning_rate': 0.005034231569254938}. Best is trial 12 with value: 0.845103625700087.\u001b[0m\n"
     ]
    },
    {
     "name": "stderr",
     "output_type": "stream",
     "text": [
      "\u001b[32m[I 2023-07-14 20:47:15,329]\u001b[0m Trial 31 finished with value: 0.6275080880593589 and parameters: {'learner_type': 'FairGBM', 'learner_FairGBM_boosting_type': 'goss', 'learner_FairGBM_enable_bundle': False, 'learner_FairGBM_n_estimators': 61, 'learner_FairGBM_num_leaves': 30, 'learner_FairGBM_min_child_samples': 52, 'learner_FairGBM_max_depth': 7, 'learner_FairGBM_learning_rate': 0.3232729648853259, 'learner_FairGBM_reg_alpha': 0.0002064381008123776, 'learner_FairGBM_reg_lambda': 0.006903256881059685, 'learner_FairGBM_constraint_type': 'FNR,FPR', 'learner_FairGBM_multiplier_learning_rate': 0.027723803425911662}. Best is trial 12 with value: 0.845103625700087.\u001b[0m\n",
      "\u001b[32m[I 2023-07-14 20:47:15,531]\u001b[0m Trial 30 finished with value: 0.6795878558779631 and parameters: {'learner_type': 'FairGBM', 'learner_FairGBM_boosting_type': 'gbdt', 'learner_FairGBM_enable_bundle': False, 'learner_FairGBM_n_estimators': 153, 'learner_FairGBM_num_leaves': 4, 'learner_FairGBM_min_child_samples': 139, 'learner_FairGBM_max_depth': 9, 'learner_FairGBM_learning_rate': 0.08815434138690029, 'learner_FairGBM_reg_alpha': 0.00619679078289083, 'learner_FairGBM_reg_lambda': 0.00026380381722199814, 'learner_FairGBM_constraint_type': 'FNR,FPR', 'learner_FairGBM_multiplier_learning_rate': 0.009773175677261185}. Best is trial 12 with value: 0.845103625700087.\u001b[0m\n",
      "\u001b[32m[I 2023-07-14 20:47:15,641]\u001b[0m Trial 34 finished with value: 0.6852867094299092 and parameters: {'learner_type': 'FairGBM', 'learner_FairGBM_boosting_type': 'goss', 'learner_FairGBM_enable_bundle': False, 'learner_FairGBM_n_estimators': 53, 'learner_FairGBM_num_leaves': 18, 'learner_FairGBM_min_child_samples': 8, 'learner_FairGBM_max_depth': 2, 'learner_FairGBM_learning_rate': 0.22308701599035943, 'learner_FairGBM_reg_alpha': 0.011253143540715433, 'learner_FairGBM_reg_lambda': 0.00916652901960178, 'learner_FairGBM_constraint_type': 'FNR,FPR', 'learner_FairGBM_multiplier_learning_rate': 0.010313043394297672}. Best is trial 12 with value: 0.845103625700087.\u001b[0m\n",
      "\u001b[32m[I 2023-07-14 20:47:15,719]\u001b[0m Trial 33 finished with value: 0.5283972750035248 and parameters: {'learner_type': 'FairGBM', 'learner_FairGBM_boosting_type': 'goss', 'learner_FairGBM_enable_bundle': False, 'learner_FairGBM_n_estimators': 92, 'learner_FairGBM_num_leaves': 17, 'learner_FairGBM_min_child_samples': 9, 'learner_FairGBM_max_depth': 9, 'learner_FairGBM_learning_rate': 0.4731698175198547, 'learner_FairGBM_reg_alpha': 0.001443335844426366, 'learner_FairGBM_reg_lambda': 0.00058650219087061, 'learner_FairGBM_constraint_type': 'FNR,FPR', 'learner_FairGBM_multiplier_learning_rate': 0.09683757559507102}. Best is trial 12 with value: 0.845103625700087.\u001b[0m\n",
      "\u001b[32m[I 2023-07-14 20:47:15,822]\u001b[0m Trial 4 finished with value: 0.7797249253004609 and parameters: {'learner_type': 'FairGBM', 'learner_FairGBM_boosting_type': 'goss', 'learner_FairGBM_enable_bundle': False, 'learner_FairGBM_n_estimators': 2441, 'learner_FairGBM_num_leaves': 6, 'learner_FairGBM_min_child_samples': 86, 'learner_FairGBM_max_depth': 4, 'learner_FairGBM_learning_rate': 0.017537911944038535, 'learner_FairGBM_reg_alpha': 0.0007507930171534399, 'learner_FairGBM_reg_lambda': 0.03324638143348154, 'learner_FairGBM_constraint_type': 'FNR,FPR', 'learner_FairGBM_multiplier_learning_rate': 0.02343841632333238}. Best is trial 12 with value: 0.845103625700087.\u001b[0m\n",
      "\u001b[32m[I 2023-07-14 20:47:15,896]\u001b[0m Trial 35 finished with value: 0.646463582276136 and parameters: {'learner_type': 'FairGBM', 'learner_FairGBM_boosting_type': 'gbdt', 'learner_FairGBM_enable_bundle': False, 'learner_FairGBM_n_estimators': 76, 'learner_FairGBM_num_leaves': 4, 'learner_FairGBM_min_child_samples': 15, 'learner_FairGBM_max_depth': 7, 'learner_FairGBM_learning_rate': 0.06151352061602333, 'learner_FairGBM_reg_alpha': 0.06518281076864212, 'learner_FairGBM_reg_lambda': 0.00010446418497564164, 'learner_FairGBM_constraint_type': 'FNR,FPR', 'learner_FairGBM_multiplier_learning_rate': 0.06440214700507725}. Best is trial 12 with value: 0.845103625700087.\u001b[0m\n",
      "\u001b[32m[I 2023-07-14 20:47:15,941]\u001b[0m Trial 32 finished with value: 0.6695195999426147 and parameters: {'learner_type': 'FairGBM', 'learner_FairGBM_boosting_type': 'gbdt', 'learner_FairGBM_enable_bundle': False, 'learner_FairGBM_n_estimators': 244, 'learner_FairGBM_num_leaves': 4, 'learner_FairGBM_min_child_samples': 26, 'learner_FairGBM_max_depth': 8, 'learner_FairGBM_learning_rate': 0.050282093698368995, 'learner_FairGBM_reg_alpha': 0.0661130433191631, 'learner_FairGBM_reg_lambda': 0.03610398430236095, 'learner_FairGBM_constraint_type': 'FNR,FPR', 'learner_FairGBM_multiplier_learning_rate': 0.011329632694221633}. Best is trial 12 with value: 0.845103625700087.\u001b[0m\n",
      "\u001b[32m[I 2023-07-14 20:47:16,667]\u001b[0m Trial 37 finished with value: 0.671280832021689 and parameters: {'learner_type': 'FairGBM', 'learner_FairGBM_boosting_type': 'goss', 'learner_FairGBM_enable_bundle': False, 'learner_FairGBM_n_estimators': 137, 'learner_FairGBM_num_leaves': 16, 'learner_FairGBM_min_child_samples': 98, 'learner_FairGBM_max_depth': 6, 'learner_FairGBM_learning_rate': 0.04573493775971253, 'learner_FairGBM_reg_alpha': 0.00010858130016765237, 'learner_FairGBM_reg_lambda': 0.02334420928544731, 'learner_FairGBM_constraint_type': 'FNR,FPR', 'learner_FairGBM_multiplier_learning_rate': 0.006295715512513372}. Best is trial 12 with value: 0.845103625700087.\u001b[0m\n",
      "\u001b[32m[I 2023-07-14 20:47:17,057]\u001b[0m Trial 26 finished with value: 0.3267664950786378 and parameters: {'learner_type': 'FairGBM', 'learner_FairGBM_boosting_type': 'goss', 'learner_FairGBM_enable_bundle': False, 'learner_FairGBM_n_estimators': 1126, 'learner_FairGBM_num_leaves': 4, 'learner_FairGBM_min_child_samples': 42, 'learner_FairGBM_max_depth': 10, 'learner_FairGBM_learning_rate': 0.246959797820858, 'learner_FairGBM_reg_alpha': 0.002645454958740139, 'learner_FairGBM_reg_lambda': 0.022502135503596046, 'learner_FairGBM_constraint_type': 'FNR,FPR', 'learner_FairGBM_multiplier_learning_rate': 0.09561815005971334}. Best is trial 12 with value: 0.845103625700087.\u001b[0m\n",
      "\u001b[32m[I 2023-07-14 20:47:17,156]\u001b[0m Trial 6 finished with value: 0.8473399207225254 and parameters: {'learner_type': 'FairGBM', 'learner_FairGBM_boosting_type': 'goss', 'learner_FairGBM_enable_bundle': False, 'learner_FairGBM_n_estimators': 2755, 'learner_FairGBM_num_leaves': 7, 'learner_FairGBM_min_child_samples': 91, 'learner_FairGBM_max_depth': 9, 'learner_FairGBM_learning_rate': 0.01362804700399965, 'learner_FairGBM_reg_alpha': 0.0001690325818459963, 'learner_FairGBM_reg_lambda': 0.04613015805363363, 'learner_FairGBM_constraint_type': 'FNR,FPR', 'learner_FairGBM_multiplier_learning_rate': 0.06828258875912317}. Best is trial 6 with value: 0.8473399207225254.\u001b[0m\n",
      "\u001b[32m[I 2023-07-14 20:47:17,408]\u001b[0m Trial 40 finished with value: 0.5958065938298496 and parameters: {'learner_type': 'FairGBM', 'learner_FairGBM_boosting_type': 'gbdt', 'learner_FairGBM_enable_bundle': False, 'learner_FairGBM_n_estimators': 292, 'learner_FairGBM_num_leaves': 27, 'learner_FairGBM_min_child_samples': 13, 'learner_FairGBM_max_depth': 4, 'learner_FairGBM_learning_rate': 0.4798183043495103, 'learner_FairGBM_reg_alpha': 0.04406127922847131, 'learner_FairGBM_reg_lambda': 0.009334445854760594, 'learner_FairGBM_constraint_type': 'FNR,FPR', 'learner_FairGBM_multiplier_learning_rate': 0.007807107083816789}. Best is trial 6 with value: 0.8473399207225254.\u001b[0m\n",
      "\u001b[32m[I 2023-07-14 20:47:17,647]\u001b[0m Trial 42 finished with value: 0.6388592515128448 and parameters: {'learner_type': 'FairGBM', 'learner_FairGBM_boosting_type': 'gbdt', 'learner_FairGBM_enable_bundle': False, 'learner_FairGBM_n_estimators': 125, 'learner_FairGBM_num_leaves': 7, 'learner_FairGBM_min_child_samples': 98, 'learner_FairGBM_max_depth': 3, 'learner_FairGBM_learning_rate': 0.24122208639972884, 'learner_FairGBM_reg_alpha': 0.0001718721785922066, 'learner_FairGBM_reg_lambda': 0.0074289536297372566, 'learner_FairGBM_constraint_type': 'FNR,FPR', 'learner_FairGBM_multiplier_learning_rate': 0.013440670103737704}. Best is trial 6 with value: 0.8473399207225254.\u001b[0m\n",
      "\u001b[32m[I 2023-07-14 20:47:17,954]\u001b[0m Trial 43 finished with value: 0.26685907894617356 and parameters: {'learner_type': 'FairGBM', 'learner_FairGBM_boosting_type': 'goss', 'learner_FairGBM_enable_bundle': False, 'learner_FairGBM_n_estimators': 144, 'learner_FairGBM_num_leaves': 5, 'learner_FairGBM_min_child_samples': 245, 'learner_FairGBM_max_depth': 10, 'learner_FairGBM_learning_rate': 0.3871586512167165, 'learner_FairGBM_reg_alpha': 0.010330274705201078, 'learner_FairGBM_reg_lambda': 0.005323805596734685, 'learner_FairGBM_constraint_type': 'FNR,FPR', 'learner_FairGBM_multiplier_learning_rate': 0.10085386983255137}. Best is trial 6 with value: 0.8473399207225254.\u001b[0m\n"
     ]
    },
    {
     "name": "stderr",
     "output_type": "stream",
     "text": [
      "\u001b[32m[I 2023-07-14 20:47:18,243]\u001b[0m Trial 45 finished with value: 0.6680398424525561 and parameters: {'learner_type': 'FairGBM', 'learner_FairGBM_boosting_type': 'gbdt', 'learner_FairGBM_enable_bundle': False, 'learner_FairGBM_n_estimators': 121, 'learner_FairGBM_num_leaves': 6, 'learner_FairGBM_min_child_samples': 20, 'learner_FairGBM_max_depth': 6, 'learner_FairGBM_learning_rate': 0.040507866776548045, 'learner_FairGBM_reg_alpha': 0.0035436168677511343, 'learner_FairGBM_reg_lambda': 0.00015572619152512214, 'learner_FairGBM_constraint_type': 'FNR,FPR', 'learner_FairGBM_multiplier_learning_rate': 0.09996793961185357}. Best is trial 6 with value: 0.8473399207225254.\u001b[0m\n",
      "\u001b[32m[I 2023-07-14 20:47:19,593]\u001b[0m Trial 22 finished with value: 0.7999263038510098 and parameters: {'learner_type': 'FairGBM', 'learner_FairGBM_boosting_type': 'goss', 'learner_FairGBM_enable_bundle': False, 'learner_FairGBM_n_estimators': 1609, 'learner_FairGBM_num_leaves': 5, 'learner_FairGBM_min_child_samples': 26, 'learner_FairGBM_max_depth': 5, 'learner_FairGBM_learning_rate': 0.04620175538277868, 'learner_FairGBM_reg_alpha': 0.0014641415709080354, 'learner_FairGBM_reg_lambda': 0.01773109101714736, 'learner_FairGBM_constraint_type': 'FNR,FPR', 'learner_FairGBM_multiplier_learning_rate': 0.04214889412507657}. Best is trial 6 with value: 0.8473399207225254.\u001b[0m\n",
      "\u001b[32m[I 2023-07-14 20:47:19,989]\u001b[0m Trial 46 finished with value: 0.6073925521749317 and parameters: {'learner_type': 'FairGBM', 'learner_FairGBM_boosting_type': 'gbdt', 'learner_FairGBM_enable_bundle': False, 'learner_FairGBM_n_estimators': 447, 'learner_FairGBM_num_leaves': 7, 'learner_FairGBM_min_child_samples': 27, 'learner_FairGBM_max_depth': 4, 'learner_FairGBM_learning_rate': 0.3699606619116224, 'learner_FairGBM_reg_alpha': 0.0038676635085008525, 'learner_FairGBM_reg_lambda': 0.0017814613444203716, 'learner_FairGBM_constraint_type': 'FNR,FPR', 'learner_FairGBM_multiplier_learning_rate': 0.007650130379641108}. Best is trial 6 with value: 0.8473399207225254.\u001b[0m\n",
      "\u001b[32m[I 2023-07-14 20:47:20,712]\u001b[0m Trial 49 finished with value: 0.6922624406517477 and parameters: {'learner_type': 'FairGBM', 'learner_FairGBM_boosting_type': 'gbdt', 'learner_FairGBM_enable_bundle': False, 'learner_FairGBM_n_estimators': 131, 'learner_FairGBM_num_leaves': 14, 'learner_FairGBM_min_child_samples': 51, 'learner_FairGBM_max_depth': 9, 'learner_FairGBM_learning_rate': 0.01562597378569057, 'learner_FairGBM_reg_alpha': 0.0030576582240253135, 'learner_FairGBM_reg_lambda': 0.0001668299239264338, 'learner_FairGBM_constraint_type': 'FNR,FPR', 'learner_FairGBM_multiplier_learning_rate': 0.019830200170584466}. Best is trial 6 with value: 0.8473399207225254.\u001b[0m\n",
      "\u001b[32m[I 2023-07-14 20:47:21,822]\u001b[0m Trial 39 finished with value: 0.7660270823330633 and parameters: {'learner_type': 'FairGBM', 'learner_FairGBM_boosting_type': 'goss', 'learner_FairGBM_enable_bundle': False, 'learner_FairGBM_n_estimators': 952, 'learner_FairGBM_num_leaves': 15, 'learner_FairGBM_min_child_samples': 32, 'learner_FairGBM_max_depth': 7, 'learner_FairGBM_learning_rate': 0.015175545137151119, 'learner_FairGBM_reg_alpha': 0.0004590355520039499, 'learner_FairGBM_reg_lambda': 0.001386533064634066, 'learner_FairGBM_constraint_type': 'FNR,FPR', 'learner_FairGBM_multiplier_learning_rate': 0.12363431823769173}. Best is trial 6 with value: 0.8473399207225254.\u001b[0m\n",
      "\u001b[32m[I 2023-07-14 20:47:23,024]\u001b[0m Trial 38 finished with value: 0.393618038058475 and parameters: {'learner_type': 'FairGBM', 'learner_FairGBM_boosting_type': 'goss', 'learner_FairGBM_enable_bundle': False, 'learner_FairGBM_n_estimators': 1365, 'learner_FairGBM_num_leaves': 23, 'learner_FairGBM_min_child_samples': 6, 'learner_FairGBM_max_depth': 7, 'learner_FairGBM_learning_rate': 0.0716794060673535, 'learner_FairGBM_reg_alpha': 0.030161586461502694, 'learner_FairGBM_reg_lambda': 0.007759261415002434, 'learner_FairGBM_constraint_type': 'FNR,FPR', 'learner_FairGBM_multiplier_learning_rate': 0.06530575304026832}. Best is trial 6 with value: 0.8473399207225254.\u001b[0m\n",
      "\u001b[32m[I 2023-07-14 20:47:23,756]\u001b[0m Trial 44 finished with value: 0.8909070189373499 and parameters: {'learner_type': 'FairGBM', 'learner_FairGBM_boosting_type': 'goss', 'learner_FairGBM_enable_bundle': False, 'learner_FairGBM_n_estimators': 1177, 'learner_FairGBM_num_leaves': 5, 'learner_FairGBM_min_child_samples': 26, 'learner_FairGBM_max_depth': 9, 'learner_FairGBM_learning_rate': 0.01239756268184544, 'learner_FairGBM_reg_alpha': 0.0005649816044111776, 'learner_FairGBM_reg_lambda': 0.000160324240594088, 'learner_FairGBM_constraint_type': 'FNR,FPR', 'learner_FairGBM_multiplier_learning_rate': 0.034743536363180734}. Best is trial 44 with value: 0.8909070189373499.\u001b[0m\n",
      "\u001b[32m[I 2023-07-14 20:47:25,895]\u001b[0m Trial 41 finished with value: 0.804028108789278 and parameters: {'learner_type': 'FairGBM', 'learner_FairGBM_boosting_type': 'gbdt', 'learner_FairGBM_enable_bundle': False, 'learner_FairGBM_n_estimators': 1808, 'learner_FairGBM_num_leaves': 10, 'learner_FairGBM_min_child_samples': 5, 'learner_FairGBM_max_depth': 10, 'learner_FairGBM_learning_rate': 0.02612170065643864, 'learner_FairGBM_reg_alpha': 0.08539478320433785, 'learner_FairGBM_reg_lambda': 0.09378668506244169, 'learner_FairGBM_constraint_type': 'FNR,FPR', 'learner_FairGBM_multiplier_learning_rate': 0.02906300136235283}. Best is trial 44 with value: 0.8909070189373499.\u001b[0m\n",
      "\u001b[32m[I 2023-07-14 20:47:27,909]\u001b[0m Trial 47 finished with value: 0.3829359393945889 and parameters: {'learner_type': 'FairGBM', 'learner_FairGBM_boosting_type': 'goss', 'learner_FairGBM_enable_bundle': False, 'learner_FairGBM_n_estimators': 1956, 'learner_FairGBM_num_leaves': 5, 'learner_FairGBM_min_child_samples': 8, 'learner_FairGBM_max_depth': 6, 'learner_FairGBM_learning_rate': 0.06279261862486935, 'learner_FairGBM_reg_alpha': 0.004318811680379899, 'learner_FairGBM_reg_lambda': 0.03608702550505329, 'learner_FairGBM_constraint_type': 'FNR,FPR', 'learner_FairGBM_multiplier_learning_rate': 0.03337842516690676}. Best is trial 44 with value: 0.8909070189373499.\u001b[0m\n",
      "\u001b[32m[I 2023-07-14 20:47:29,503]\u001b[0m Trial 36 finished with value: 0.7092074444672725 and parameters: {'learner_type': 'FairGBM', 'learner_FairGBM_boosting_type': 'goss', 'learner_FairGBM_enable_bundle': False, 'learner_FairGBM_n_estimators': 2189, 'learner_FairGBM_num_leaves': 10, 'learner_FairGBM_min_child_samples': 283, 'learner_FairGBM_max_depth': 10, 'learner_FairGBM_learning_rate': 0.05879060842606425, 'learner_FairGBM_reg_alpha': 0.0018358109003829874, 'learner_FairGBM_reg_lambda': 0.0007692496053492717, 'learner_FairGBM_constraint_type': 'FNR,FPR', 'learner_FairGBM_multiplier_learning_rate': 0.01047488964465442}. Best is trial 44 with value: 0.8909070189373499.\u001b[0m\n",
      "\u001b[32m[I 2023-07-14 20:47:31,174]\u001b[0m Trial 48 finished with value: 0.5806857804459803 and parameters: {'learner_type': 'FairGBM', 'learner_FairGBM_boosting_type': 'gbdt', 'learner_FairGBM_enable_bundle': False, 'learner_FairGBM_n_estimators': 3218, 'learner_FairGBM_num_leaves': 21, 'learner_FairGBM_min_child_samples': 230, 'learner_FairGBM_max_depth': 7, 'learner_FairGBM_learning_rate': 0.28345161529167606, 'learner_FairGBM_reg_alpha': 0.04251499407860589, 'learner_FairGBM_reg_lambda': 0.0007620026928875932, 'learner_FairGBM_constraint_type': 'FNR,FPR', 'learner_FairGBM_multiplier_learning_rate': 0.01977235878420187}. Best is trial 44 with value: 0.8909070189373499.\u001b[0m\n"
     ]
    },
    {
     "name": "stdout",
     "output_type": "stream",
     "text": [
      "CPU times: user 3min 7s, sys: 347 ms, total: 3min 7s\n",
      "Wall time: 29.3 s\n"
     ]
    }
   ],
   "source": [
    "%%time\n",
    "# Then just run optimize as you would for an optuna.Study object\n",
    "tuner.optimize(n_trials=50, n_jobs=8)"
   ]
  },
  {
   "cell_type": "code",
   "execution_count": 10,
   "id": "1bea2408",
   "metadata": {},
   "outputs": [
    {
     "data": {
      "image/png": "[encoded data removed]",
      "text/plain": [
       "<Figure size 640x480 with 1 Axes>"
      ]
     },
     "metadata": {},
     "output_type": "display_data"
    }
   ],
   "source": [
    "tuner.objective_function.plot()"
   ]
  },
  {
   "cell_type": "markdown",
   "id": "6650cb19",
   "metadata": {},
   "source": [
    "Hyperparameter tuning (HPT) results are stored in `tuner.results`:"
   ]
  },
  {
   "cell_type": "code",
   "execution_count": 11,
   "id": "97525554",
   "metadata": {},
   "outputs": [
    {
     "data": {
      "text/html": [
       "<div>\n",
       "<style scoped>\n",
       "    .dataframe tbody tr th:only-of-type {\n",
       "        vertical-align: middle;\n",
       "    }\n",
       "\n",
       "    .dataframe tbody tr th {\n",
       "        vertical-align: top;\n",
       "    }\n",
       "\n",
       "    .dataframe thead th {\n",
       "        text-align: right;\n",
       "    }\n",
       "</style>\n",
       "<table border=\"1\" class=\"dataframe\">\n",
       "  <thead>\n",
       "    <tr style=\"text-align: right;\">\n",
       "      <th></th>\n",
       "      <th>algorithm</th>\n",
       "      <th>accuracy</th>\n",
       "      <th>tpr</th>\n",
       "      <th>fnr</th>\n",
       "      <th>fpr</th>\n",
       "      <th>tnr</th>\n",
       "      <th>precision</th>\n",
       "      <th>ppr</th>\n",
       "      <th>squared_loss</th>\n",
       "      <th>log_loss</th>\n",
       "      <th>...</th>\n",
       "      <th>tpr_ratio</th>\n",
       "      <th>tpr_diff</th>\n",
       "      <th>precision_ratio</th>\n",
       "      <th>precision_diff</th>\n",
       "      <th>tnr_ratio</th>\n",
       "      <th>tnr_diff</th>\n",
       "      <th>fnr_ratio</th>\n",
       "      <th>fnr_diff</th>\n",
       "      <th>equal_odds_ratio</th>\n",
       "      <th>equal_odds_diff</th>\n",
       "    </tr>\n",
       "  </thead>\n",
       "  <tbody>\n",
       "    <tr>\n",
       "      <th>44</th>\n",
       "      <td>FairGBMClassifier</td>\n",
       "      <td>0.851124</td>\n",
       "      <td>0.540458</td>\n",
       "      <td>0.459542</td>\n",
       "      <td>0.050032</td>\n",
       "      <td>0.949968</td>\n",
       "      <td>0.774617</td>\n",
       "      <td>0.168407</td>\n",
       "      <td>0.104920</td>\n",
       "      <td>0.329557</td>\n",
       "      <td>...</td>\n",
       "      <td>0.930690</td>\n",
       "      <td>0.039758</td>\n",
       "      <td>0.743810</td>\n",
       "      <td>0.210485</td>\n",
       "      <td>0.998586</td>\n",
       "      <td>0.001345</td>\n",
       "      <td>0.914709</td>\n",
       "      <td>0.039758</td>\n",
       "      <td>0.930690</td>\n",
       "      <td>0.039758</td>\n",
       "    </tr>\n",
       "    <tr>\n",
       "      <th>6</th>\n",
       "      <td>FairGBMClassifier</td>\n",
       "      <td>0.850018</td>\n",
       "      <td>0.631552</td>\n",
       "      <td>0.368448</td>\n",
       "      <td>0.080473</td>\n",
       "      <td>0.919527</td>\n",
       "      <td>0.714039</td>\n",
       "      <td>0.213487</td>\n",
       "      <td>0.106740</td>\n",
       "      <td>0.391564</td>\n",
       "      <td>...</td>\n",
       "      <td>0.860485</td>\n",
       "      <td>0.099715</td>\n",
       "      <td>0.753506</td>\n",
       "      <td>0.186816</td>\n",
       "      <td>0.985652</td>\n",
       "      <td>0.013310</td>\n",
       "      <td>0.740994</td>\n",
       "      <td>0.099715</td>\n",
       "      <td>0.844661</td>\n",
       "      <td>0.099715</td>\n",
       "    </tr>\n",
       "    <tr>\n",
       "      <th>12</th>\n",
       "      <td>FairGBMClassifier</td>\n",
       "      <td>0.851861</td>\n",
       "      <td>0.642239</td>\n",
       "      <td>0.357761</td>\n",
       "      <td>0.081444</td>\n",
       "      <td>0.918556</td>\n",
       "      <td>0.715014</td>\n",
       "      <td>0.216804</td>\n",
       "      <td>0.104590</td>\n",
       "      <td>0.391621</td>\n",
       "      <td>...</td>\n",
       "      <td>0.838346</td>\n",
       "      <td>0.120001</td>\n",
       "      <td>0.732085</td>\n",
       "      <td>0.205006</td>\n",
       "      <td>0.994887</td>\n",
       "      <td>0.004712</td>\n",
       "      <td>0.682260</td>\n",
       "      <td>0.120001</td>\n",
       "      <td>0.838346</td>\n",
       "      <td>0.120001</td>\n",
       "    </tr>\n",
       "    <tr>\n",
       "      <th>18</th>\n",
       "      <td>FairGBMClassifier</td>\n",
       "      <td>0.860582</td>\n",
       "      <td>0.592366</td>\n",
       "      <td>0.407634</td>\n",
       "      <td>0.054080</td>\n",
       "      <td>0.945920</td>\n",
       "      <td>0.777036</td>\n",
       "      <td>0.184007</td>\n",
       "      <td>0.096303</td>\n",
       "      <td>0.299928</td>\n",
       "      <td>...</td>\n",
       "      <td>0.765772</td>\n",
       "      <td>0.172438</td>\n",
       "      <td>0.772331</td>\n",
       "      <td>0.187659</td>\n",
       "      <td>0.995529</td>\n",
       "      <td>0.004237</td>\n",
       "      <td>0.604719</td>\n",
       "      <td>0.172438</td>\n",
       "      <td>0.765772</td>\n",
       "      <td>0.172438</td>\n",
       "    </tr>\n",
       "    <tr>\n",
       "      <th>41</th>\n",
       "      <td>FairGBMClassifier</td>\n",
       "      <td>0.862302</td>\n",
       "      <td>0.616285</td>\n",
       "      <td>0.383715</td>\n",
       "      <td>0.059424</td>\n",
       "      <td>0.940576</td>\n",
       "      <td>0.767427</td>\n",
       "      <td>0.193834</td>\n",
       "      <td>0.097406</td>\n",
       "      <td>0.306963</td>\n",
       "      <td>...</td>\n",
       "      <td>0.931944</td>\n",
       "      <td>0.044466</td>\n",
       "      <td>0.800994</td>\n",
       "      <td>0.159397</td>\n",
       "      <td>0.982353</td>\n",
       "      <td>0.016778</td>\n",
       "      <td>0.886302</td>\n",
       "      <td>0.044466</td>\n",
       "      <td>0.745754</td>\n",
       "      <td>0.044466</td>\n",
       "    </tr>\n",
       "  </tbody>\n",
       "</table>\n",
       "<p>5 rows × 26 columns</p>\n",
       "</div>"
      ],
      "text/plain": [
       "            algorithm  accuracy       tpr       fnr       fpr       tnr  \\\n",
       "44  FairGBMClassifier  0.851124  0.540458  0.459542  0.050032  0.949968   \n",
       "6   FairGBMClassifier  0.850018  0.631552  0.368448  0.080473  0.919527   \n",
       "12  FairGBMClassifier  0.851861  0.642239  0.357761  0.081444  0.918556   \n",
       "18  FairGBMClassifier  0.860582  0.592366  0.407634  0.054080  0.945920   \n",
       "41  FairGBMClassifier  0.862302  0.616285  0.383715  0.059424  0.940576   \n",
       "\n",
       "    precision       ppr  squared_loss  log_loss  ...  tpr_ratio  tpr_diff  \\\n",
       "44   0.774617  0.168407      0.104920  0.329557  ...   0.930690  0.039758   \n",
       "6    0.714039  0.213487      0.106740  0.391564  ...   0.860485  0.099715   \n",
       "12   0.715014  0.216804      0.104590  0.391621  ...   0.838346  0.120001   \n",
       "18   0.777036  0.184007      0.096303  0.299928  ...   0.765772  0.172438   \n",
       "41   0.767427  0.193834      0.097406  0.306963  ...   0.931944  0.044466   \n",
       "\n",
       "    precision_ratio  precision_diff  tnr_ratio  tnr_diff  fnr_ratio  fnr_diff  \\\n",
       "44         0.743810        0.210485   0.998586  0.001345   0.914709  0.039758   \n",
       "6          0.753506        0.186816   0.985652  0.013310   0.740994  0.099715   \n",
       "12         0.732085        0.205006   0.994887  0.004712   0.682260  0.120001   \n",
       "18         0.772331        0.187659   0.995529  0.004237   0.604719  0.172438   \n",
       "41         0.800994        0.159397   0.982353  0.016778   0.886302  0.044466   \n",
       "\n",
       "    equal_odds_ratio  equal_odds_diff  \n",
       "44          0.930690         0.039758  \n",
       "6           0.844661         0.099715  \n",
       "12          0.838346         0.120001  \n",
       "18          0.765772         0.172438  \n",
       "41          0.745754         0.044466  \n",
       "\n",
       "[5 rows x 26 columns]"
      ]
     },
     "execution_count": 11,
     "metadata": {},
     "output_type": "execute_result"
    }
   ],
   "source": [
    "# Show results with best fairness\n",
    "tuner.results.sort_values(by=\"equal_odds_ratio\", ascending=False).head()"
   ]
  },
  {
   "cell_type": "markdown",
   "id": "68f91d90",
   "metadata": {},
   "source": [
    "### Reconstruct classifier from best HPT trial\n",
    "\n",
    "In our case, the best trial is trial 21!"
   ]
  },
  {
   "cell_type": "code",
   "execution_count": 12,
   "id": "a1ea2dab",
   "metadata": {},
   "outputs": [
    {
     "name": "stdout",
     "output_type": "stream",
     "text": [
      "Best trial was #44.\n"
     ]
    }
   ],
   "source": [
    "print(f\"Best trial was #{obj_func.best_trial.id}.\")"
   ]
  },
  {
   "cell_type": "code",
   "execution_count": 13,
   "id": "34c35492",
   "metadata": {},
   "outputs": [
    {
     "name": "stdout",
     "output_type": "stream",
     "text": [
      "CPU times: user 5.95 s, sys: 155 µs, total: 5.95 s\n",
      "Wall time: 5.96 s\n"
     ]
    }
   ],
   "source": [
    "%%time\n",
    "fairgbm_clf = obj_func.reconstruct_model(obj_func.best_trial)"
   ]
  },
  {
   "cell_type": "markdown",
   "id": "071ed3c6",
   "metadata": {},
   "source": [
    "### Compute binary predictions\n",
    "Note that the sensitive attributes are only used in training and not for predicting!"
   ]
  },
  {
   "cell_type": "code",
   "execution_count": 14,
   "id": "9c3f665e",
   "metadata": {},
   "outputs": [],
   "source": [
    "# Compute test predictions (select only probabilities for positive class)\n",
    "Y_test_pred = fairgbm_clf.predict_proba(X_test)[:, 1]"
   ]
  },
  {
   "cell_type": "markdown",
   "id": "4d8df57e",
   "metadata": {},
   "source": [
    "### And evaluate test performance and fairness"
   ]
  },
  {
   "cell_type": "code",
   "execution_count": 15,
   "id": "12782e2a",
   "metadata": {},
   "outputs": [
    {
     "data": {
      "text/plain": [
       "{'accuracy': 0.8555282555282555,\n",
       " 'tpr': 0.5587453482190324,\n",
       " 'fnr': 0.44125465178096757,\n",
       " 'fpr': 0.055280396229429624,\n",
       " 'tnr': 0.9447196037705704,\n",
       " 'precision': 0.7523264137437365,\n",
       " 'ppr': 0.17162162162162162,\n",
       " 'squared_loss': 0.10316048595549515,\n",
       " 'log_loss': 0.3265886465823243,\n",
       " 'accuracy_ratio': 0.9230303312818893,\n",
       " 'accuracy_diff': 0.06943658944872522,\n",
       " 'ppr_ratio': 0.5392664510992754,\n",
       " 'ppr_diff': 0.09319248975568382,\n",
       " 'fpr_ratio': 0.8697132712894723,\n",
       " 'fpr_diff': 0.007829082330305229,\n",
       " 'tpr_ratio': 0.9959900442477876,\n",
       " 'tpr_diff': 0.00224180581323441,\n",
       " 'precision_ratio': 0.6153586798399806,\n",
       " 'precision_diff': 0.3146748899770656,\n",
       " 'tnr_ratio': 0.9917391904959247,\n",
       " 'tnr_diff': 0.007829082330305326,\n",
       " 'fnr_ratio': 0.9949415663701379,\n",
       " 'fnr_diff': 0.0022418058132343543,\n",
       " 'equal_odds_ratio': 0.8697132712894723,\n",
       " 'equal_odds_diff': 0.007829082330305229}"
      ]
     },
     "execution_count": 15,
     "metadata": {},
     "output_type": "execute_result"
    }
   ],
   "source": [
    "from hpt.evaluation import evaluate_predictions\n",
    "\n",
    "test_eval = evaluate_predictions(\n",
    "    y_true=Y_test, y_pred_scores=Y_test_pred,\n",
    "    sensitive_attribute=S_test,\n",
    "    threshold=0.50,\n",
    ")\n",
    "\n",
    "test_eval"
   ]
  },
  {
   "cell_type": "code",
   "execution_count": 16,
   "id": "0477514c",
   "metadata": {},
   "outputs": [
    {
     "name": "stdout",
     "output_type": "stream",
     "text": [
      "FairGBM results:\n",
      "\t Accuracy : 85.6%\n",
      "\t Equalized odds ratio (higher is better): 87.0%\n",
      "\t Equalized odds difference (lower is better): 0.8%\n"
     ]
    }
   ],
   "source": [
    "print(f\"FairGBM results:\")\n",
    "print(f\"\\t Accuracy : {test_eval['accuracy']:.1%}\")\n",
    "print(f\"\\t Equalized odds ratio (higher is better): {test_eval['equal_odds_ratio']:.1%}\")\n",
    "print(f\"\\t Equalized odds difference (lower is better): {test_eval['equal_odds_diff']:.1%}\")"
   ]
  }
 ],
 "metadata": {
  "kernelspec": {
   "display_name": "Python 3 (ipykernel)",
   "language": "python",
   "name": "python3"
  },
  "language_info": {
   "codemirror_mode": {
    "name": "ipython",
    "version": 3
   },
   "file_extension": ".py",
   "mimetype": "text/x-python",
   "name": "python",
   "nbconvert_exporter": "python",
   "pygments_lexer": "ipython3",
   "version": "3.10.9"
  }
 },
 "nbformat": 4,
 "nbformat_minor": 5
}
